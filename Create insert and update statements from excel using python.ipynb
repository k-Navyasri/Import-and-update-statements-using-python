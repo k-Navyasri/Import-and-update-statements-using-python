{
    "metadata": {
        "kernelspec": {
            "name": "python3",
            "display_name": "Python 3 (ipykernel)",
            "language": "python"
        },
        "language_info": {
            "name": "python",
            "version": "3.8.10",
            "mimetype": "text/x-python",
            "codemirror_mode": {
                "name": "ipython",
                "version": 3
            },
            "pygments_lexer": "ipython3",
            "nbconvert_exporter": "python",
            "file_extension": ".py"
        },
        "extensions": {
            "azuredatastudio": {
                "version": 1,
                "views": []
            }
        }
    },
    "nbformat_minor": 2,
    "nbformat": 4,
    "cells": [
        {
            "cell_type": "markdown",
            "source": [
                "# Create Insert and Update script from Excel"
            ],
            "metadata": {
                "azdata_cell_guid": "0079d866-c4d7-4a32-8c09-0bce850854b4"
            },
            "attachments": {}
        },
        {
            "cell_type": "markdown",
            "source": [
                "## <span style=\"color: rgb(0, 128, 0);\">1.&nbsp;Import&nbsp;packages</span>"
            ],
            "metadata": {
                "azdata_cell_guid": "7c36daf3-8c69-40e0-b1cb-56a4de5d807a"
            },
            "attachments": {}
        },
        {
            "cell_type": "code",
            "source": [
                "# 1. Import packages\r\n",
                "\r\n",
                "import pandas as  pd\r\n",
                "import numpy as np\r\n",
                "from pandas import ExcelWriter\r\n",
                "from pandas import ExcelFile\r\n",
                "import os\r\n",
                "\r\n",
                "print(\"Packages imported\")"
            ],
            "metadata": {
                "azdata_cell_guid": "9a28916a-fd24-4453-8fbe-3a3caf7b18cd",
                "tags": []
            },
            "outputs": [],
            "execution_count": null
        },
        {
            "cell_type": "markdown",
            "source": [
                "## 2\\. Create dataframe from raw data file"
            ],
            "metadata": {
                "azdata_cell_guid": "305fd3c6-4fee-4404-9747-cccab2144b7f"
            },
            "attachments": {}
        },
        {
            "cell_type": "code",
            "source": [
                "# 2. Open raw data file\r\n",
                "#---------------------------------------------------------------------------------------------------\r\n",
                "    # REQUIRED - \r\n",
                "        # 1st row column name\r\n",
                "        # 2nd row should contain datatype\r\n",
                "        # Raw file should be present in the 1st sheet of the file\r\n",
                "\r\n",
                "    # NOTES: Single quote (Global's) within the text will be replaced with additional quote (Global''s).\r\n",
                "#---------------------------------------------------------------------------------------------------\r\n",
                "\r\n",
                "# Open excel data file\r\n",
                "data_file_loc = input(\"Enter data file location\").lstrip().rstrip()\r\n",
                "##data_file_loc = r'C:\\Users\\Koppakan\\OneDrive - FM Global\\Documents\\ADO Cards\\Sprint 15\\Synthetic data for Service Order.xlsx'\r\n",
                "print(data_file_loc)\r\n",
                "\r\n",
                "data_file = pd.read_excel(data_file_loc)\r\n",
                "data_file_df = pd.DataFrame(data_file)\r\n",
                "# Remove trailing and ending spaces\r\n",
                "data_file_df.replace(r\"^ +| +$\", r\"\", regex=True, inplace=True)\r\n",
                "#.replace(\"'\", \"''\", regex=True, inplace=True)\r\n",
                "\r\n",
                "# Add another single quote to single quote within text\r\n",
                "#data_file_df = data_file_df.replace(\"'\", \"''\", regex=True, inplace=True)\r\n",
                "\r\n",
                "data_file_df_1 = data_file_df\r\n",
                "data_file_df_copy = data_file_df_1\r\n",
                "#data_file_df.dtypes\r\n",
                "print(\"File loaded\")\r\n",
                "\r\n",
                ""
            ],
            "metadata": {
                "azdata_cell_guid": "9b470bd1-d308-4dfa-8b85-3a75ff4f88ae",
                "tags": []
            },
            "outputs": [],
            "execution_count": null
        },
        {
            "cell_type": "markdown",
            "source": [
                "## 3\\. Add quotes to text datatype and remove quotes from NULL"
            ],
            "metadata": {
                "azdata_cell_guid": "dc5545e1-fe03-4b3c-889c-bed6c584533b"
            },
            "attachments": {}
        },
        {
            "cell_type": "code",
            "source": [
                "# 3. Data Preparation\r\n",
                "# NOTES: Single quote (FM Global's) within the text will be replaced with additional quote (FM Global''s).\r\n",
                "\r\n",
                "# Table name\r\n",
                "##table_name = \"main.service_order\"\r\n",
                "table_name = input(\"Enter table name ::\")\r\n",
                "print(\"table name :: \",table_name)\r\n",
                "\r\n",
                "# Update on column name\r\n",
                "##col_name = \"service_order_id\"\r\n",
                "col_name = input(\"Enter primary key column name ::\")\r\n",
                "print(\"column name :: \",col_name)\r\n",
                "col_name_df = data_file_df[col_name]\r\n",
                "\r\n",
                "col_name_df1 = col_name+ \" = \" + data_file_df[col_name].astype(str)\r\n",
                "col_name_df1\r\n",
                "\r\n",
                "# Drop column from main dataframe\r\n",
                "data_file_df = data_file_df.drop(col_name,axis =1)\r\n",
                "\r\n",
                "# Create a list of column names\r\n",
                "col_list = data_file_df.columns.tolist()\r\n",
                "syn_data_update = pd.DataFrame()\r\n",
                "syn_data_update1 = pd.DataFrame()\r\n",
                "\r\n",
                "# Replace text datatypes to char - character varying, date, timestamp\r\n",
                "data_file_df.iloc[:1] = data_file_df.iloc[:1].replace(\"timestamp\", 'char', regex=True).replace(\"character varying\", 'char', regex=True).replace(\"date\", 'char', regex=True).replace(\"character\", 'char', regex=True)\r\n",
                "\r\n",
                "for i in range(len(col_list)):\r\n",
                "    # Find value at location   \r\n",
                "    dt_val = data_file_df.iat[0,i] \r\n",
                "  \r\n",
                "# Add quotes to char datatype\r\n",
                "    if  dt_val == \"char\":\r\n",
                "        data_file_df[col_list[i]] = data_file_df[col_list[i]].str.replace(\"'\", \"''\")\r\n",
                "        new_col_nm = col_list[i] + \"_new\"                \r\n",
                "        data_file_df = data_file_df.replace(np.nan, 'NULL', regex=True)\r\n",
                "        data_file_df[new_col_nm] = \" '\" + data_file_df.iloc[:, i:i+1].astype(str)+\"'\"\r\n",
                "        data_file_df[col_list[i]] = data_file_df[new_col_nm]\r\n",
                "        data_file_df = data_file_df.drop(new_col_nm,axis =1)\r\n",
                "        \r\n",
                "# Replace 'nan'to blank and 'NULL' to NULL\r\n",
                "data_file_df.replace({\" 'NULL'\": \"NULL\"}, inplace=True)\r\n",
                "\r\n",
                "# Print result to excel\r\n",
                "   print(\"Data preparation completed\")\r\n",
                "\r\n",
                "\r\n",
                ""
            ],
            "metadata": {
                "azdata_cell_guid": "8728d6af-af08-44a4-ad91-df3da7619f33",
                "tags": []
            },
            "outputs": [],
            "execution_count": null
        },
        {
            "cell_type": "markdown",
            "source": [
                "## 4\\. Insert into script"
            ],
            "metadata": {
                "azdata_cell_guid": "e8e51998-ebf3-4bc7-87ec-c3d6981dd9cc"
            },
            "attachments": {}
        },
        {
            "cell_type": "code",
            "source": [
                "# insert into table\r\n",
                "col_list_join = ','.join(col_list)\r\n",
                "ins = \"INSERT INTO \" + table_name + \"(\" + col_list_join +\")\" + \" VALUES(\"\r\n",
                "\r\n",
                "# Combine all values in columns sep by ,\r\n",
                "syn_data_insert = pd.DataFrame()\r\n",
                "syn_data_insert['combined_cols'] = data_file_df[col_list].astype(str).agg(','.join, axis=1)\r\n",
                "\r\n",
                "# Create insert statements\r\n",
                "syn_data_insert['insert'] = ins + syn_data_insert['combined_cols'].astype(str) + \");\"\r\n",
                "\r\n",
                "# Print result to excel\r\n",
                "export_file_name = \"Insert_synthetic data for \" + table_name +\".xlsx\"\r\n",
                "syn_data_insert['insert'][1:].to_excel(export_file_name, sheet_name = \"insert\", index = False, header=False,)\r\n",
                "\r\n",
                "file_loc = os.getcwd()+ \"\\\\\"+export_file_name\r\n",
                "print(\"Insert script completed and copied to excel. \\nLocation & File name:: \",file_loc)"
            ],
            "metadata": {
                "azdata_cell_guid": "2543c8c8-252b-4ae7-88c8-3a1b48d7c52a",
                "tags": []
            },
            "outputs": [],
            "execution_count": null
        },
        {
            "cell_type": "markdown",
            "source": [
                "## 5\\. Update script"
            ],
            "metadata": {
                "azdata_cell_guid": "397ae69c-60cb-4553-bee7-c27f85511cc5"
            },
            "attachments": {}
        },
        {
            "cell_type": "code",
            "source": [
                "#UPDATE table_name SET\r\n",
                "# NOTES: Single quote (Global's) within the text will be replaced with additional quote (Global''s).\r\n",
                "\r\n",
                "updt = \"UPDATE \" + table_name + \" SET \"\r\n",
                "\r\n",
                "# Concatnate all columns & add ,\r\n",
                "syn_data_update1 = pd.DataFrame()\r\n",
                "for i in range(len(col_list)):\r\n",
                "    syn_data_update = col_list[i] + \" = \" + data_file_df[col_list[i]].astype(str)    \r\n",
                "    syn_data_update_df = pd.DataFrame(syn_data_update)\r\n",
                "    syn_data_update1 = pd.concat([syn_data_update1,syn_data_update_df], axis = 1)\r\n",
                "\r\n",
                "syn_data_update1['concat'] = pd.Series(syn_data_update1[col_list].values.tolist()).str.join(', ')\r\n",
                "\r\n",
                "# WHERE column_name & add ;\r\n",
                "syn_data_update1['update'] = updt + syn_data_update1['concat'].astype(str) + \" WHERE \" + col_name_df1.astype(str) + \";\"\r\n",
                "\r\n",
                "# Print result to excel\r\n",
                "export_file_name1 = \"Synthetic data for \" + table_name +\"_update\"+\".xlsx\"\r\n",
                "sheet = \"update_\" + table_name\r\n",
                "syn_data_update1['update'][1:].to_excel(export_file_name1, sheet_name = sheet, header=False, index = False)\r\n",
                "file_loc = os.getcwd()+ \"\\\\\"+export_file_name1\r\n",
                "print(\"update script completed and copied to excel. \\nLocation & File name:: \",file_loc)\r\n",
                ""
            ],
            "metadata": {
                "azdata_cell_guid": "ba373bdd-6c58-4953-8e1e-89f810394e2c",
                "tags": []
            },
            "outputs": [],
            "execution_count": null
        }
    ]
}